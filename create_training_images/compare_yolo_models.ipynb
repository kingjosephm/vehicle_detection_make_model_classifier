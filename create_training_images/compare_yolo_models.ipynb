{
 "cells": [
  {
   "cell_type": "code",
   "execution_count": 1,
   "id": "a13712a6-a49c-4f57-adf5-ed9101c93490",
   "metadata": {},
   "outputs": [],
   "source": [
    "import pandas as pd\n",
    "import seaborn as sns\n",
    "import matplotlib.pyplot as plt\n",
    "from matplotlib.pyplot import figure\n",
    "import ast"
   ]
  },
  {
   "cell_type": "code",
   "execution_count": 2,
   "id": "b9290155-8801-4c5c-b979-3445a60837ee",
   "metadata": {},
   "outputs": [],
   "source": [
    "sm = pd.read_csv('/Users/josephking/Documents/sponsored_projects/MERGEN/data/vehicle_classifier/data_directories/Bboxes_sm.csv')\n",
    "xl = pd.read_csv('../data/Bboxes.csv')\n",
    "\n",
    "sm['Bboxes'] = sm['Bboxes'].apply(lambda x: list(ast.literal_eval(x)))\n",
    "xl['Bboxes'] = xl['Bboxes'].apply(lambda x: list(ast.literal_eval(x)))"
   ]
  },
  {
   "cell_type": "markdown",
   "id": "5a90a38d-f85d-4e73-953e-6bdfab837f52",
   "metadata": {},
   "source": [
    "#### Original length of both datasets"
   ]
  },
  {
   "cell_type": "code",
   "execution_count": 3,
   "id": "dee52211-f208-4f7d-819a-d28a5596e329",
   "metadata": {},
   "outputs": [
    {
     "name": "stdout",
     "output_type": "stream",
     "text": [
      "690014\n",
      "690014\n"
     ]
    }
   ],
   "source": [
    "print(len(sm))\n",
    "print(len(xl))"
   ]
  },
  {
   "cell_type": "markdown",
   "id": "bc46dde5-2763-4791-b7a6-cfc23906f853",
   "metadata": {},
   "source": [
    "#### Drop rows with no vehicle\n",
    "\n",
    "Note - small YOLOv5 used 50% threshold, whereas XL imposed no minimum threshold"
   ]
  },
  {
   "cell_type": "code",
   "execution_count": 4,
   "id": "4e46e524-0978-437e-ab16-8916878eeb75",
   "metadata": {},
   "outputs": [],
   "source": [
    "sm = sm.loc[sm.Bboxes.str.len() != 0].reset_index(drop=True)  # restrict to rows with bounding boxes\n",
    "xl = xl.loc[xl.Bboxes.str.len() != 0].reset_index(drop=True)  # restrict to rows with bounding boxes"
   ]
  },
  {
   "cell_type": "code",
   "execution_count": 5,
   "id": "d52545fe-0b1c-4f39-a1b8-f7be7b944e57",
   "metadata": {},
   "outputs": [
    {
     "name": "stdout",
     "output_type": "stream",
     "text": [
      "531559\n",
      "656294\n"
     ]
    }
   ],
   "source": [
    "print(len(sm))\n",
    "print(len(xl))"
   ]
  },
  {
   "cell_type": "markdown",
   "id": "e990f5f7-00e8-417d-b915-4aa4ef2ddb80",
   "metadata": {},
   "source": [
    "#### Column for confidence"
   ]
  },
  {
   "cell_type": "code",
   "execution_count": 6,
   "id": "39c4af26-82aa-4fee-84bf-2e8222d67853",
   "metadata": {},
   "outputs": [],
   "source": [
    "sm['conf'] = sm['Bboxes'].apply(lambda x: x[-1])\n",
    "xl['conf'] = xl['Bboxes'].apply(lambda x: x[-1])"
   ]
  },
  {
   "cell_type": "code",
   "execution_count": 7,
   "id": "27d1a715-bb64-4762-aca3-ed1d95cbf574",
   "metadata": {},
   "outputs": [
    {
     "data": {
      "text/plain": [
       "0         0.745485\n",
       "1         0.677161\n",
       "2         0.690799\n",
       "3         0.776664\n",
       "4         0.839136\n",
       "            ...   \n",
       "531554    0.623437\n",
       "531555    0.751536\n",
       "531556    0.858630\n",
       "531557    0.723038\n",
       "531558    0.866400\n",
       "Name: conf, Length: 531559, dtype: float64"
      ]
     },
     "execution_count": 7,
     "metadata": {},
     "output_type": "execute_result"
    }
   ],
   "source": [
    "sm['conf']"
   ]
  },
  {
   "cell_type": "markdown",
   "id": "020b633a-e3d8-4d8c-8bc6-9c53ffb17bce",
   "metadata": {},
   "source": [
    "#### Among XL with >= 50%"
   ]
  },
  {
   "cell_type": "code",
   "execution_count": 8,
   "id": "a162fb71-c647-4182-8c40-51500e0ad0a6",
   "metadata": {},
   "outputs": [
    {
     "name": "stdout",
     "output_type": "stream",
     "text": [
      "total valid rows >= 50% confidence: 632523\n",
      "percent more rows than small acc'd 50% thresh: 0.1899\n"
     ]
    }
   ],
   "source": [
    "print(\"total valid rows >= 50% confidence:\", len(xl.loc[xl['conf'] >= 0.5]))\n",
    "print(\"percent more rows than small acc'd 50% thresh:\", round((632523-531559)/531559, 4))"
   ]
  },
  {
   "cell_type": "markdown",
   "id": "042a6280-8e66-4f4d-ab22-077a9891b36e",
   "metadata": {},
   "source": [
    "#### Compare distributions"
   ]
  },
  {
   "cell_type": "code",
   "execution_count": 9,
   "id": "d6a10045-5a7b-469f-9f5d-a160084899cd",
   "metadata": {},
   "outputs": [
    {
     "data": {
      "text/plain": [
       "count    531559.000000\n",
       "mean          0.687458\n",
       "std           0.106434\n",
       "min           0.500000\n",
       "25%           0.599155\n",
       "50%           0.686028\n",
       "75%           0.771753\n",
       "max           0.937059\n",
       "Name: conf, dtype: float64"
      ]
     },
     "execution_count": 9,
     "metadata": {},
     "output_type": "execute_result"
    }
   ],
   "source": [
    "sm['conf'].describe()"
   ]
  },
  {
   "cell_type": "code",
   "execution_count": 10,
   "id": "68f0996a-7793-4ce9-925b-7890beaf2417",
   "metadata": {},
   "outputs": [
    {
     "data": {
      "text/plain": [
       "count    656294.000000\n",
       "mean          0.825433\n",
       "std           0.129141\n",
       "min           0.250244\n",
       "25%           0.788574\n",
       "50%           0.871582\n",
       "75%           0.912109\n",
       "max           0.962891\n",
       "Name: conf, dtype: float64"
      ]
     },
     "execution_count": 10,
     "metadata": {},
     "output_type": "execute_result"
    }
   ],
   "source": [
    "xl['conf'].describe()"
   ]
  },
  {
   "cell_type": "code",
   "execution_count": 11,
   "id": "fac93f06-74f4-4f08-8304-f2b94d8a1e04",
   "metadata": {},
   "outputs": [
    {
     "data": {
      "text/plain": [
       "count    632523.000000\n",
       "mean          0.841892\n",
       "std           0.098002\n",
       "min           0.500000\n",
       "25%           0.801758\n",
       "50%           0.875488\n",
       "75%           0.913574\n",
       "max           0.962891\n",
       "Name: conf, dtype: float64"
      ]
     },
     "execution_count": 11,
     "metadata": {},
     "output_type": "execute_result"
    }
   ],
   "source": [
    "xl.loc[xl['conf'] >= 0.5]['conf'].describe()"
   ]
  },
  {
   "cell_type": "markdown",
   "id": "a9bdb193-ecb6-40cb-a5b1-5c2e8db66103",
   "metadata": {},
   "source": [
    "#### Kernel density plot"
   ]
  },
  {
   "cell_type": "code",
   "execution_count": 12,
   "id": "9f7acf8a-403e-492e-8628-59a0bd4068f6",
   "metadata": {},
   "outputs": [
    {
     "data": {
      "image/png": "[encoded data removed]",
      "text/plain": [
       "<Figure size 560x560 with 1 Axes>"
      ]
     },
     "metadata": {
      "needs_background": "light"
     },
     "output_type": "display_data"
    }
   ],
   "source": [
    "figure(figsize=(7, 7), dpi=80)\n",
    "sns.kdeplot(sm['conf'], label='small')\n",
    "sns.kdeplot(xl.loc[xl['conf'] >= 0.5]['conf'], label='xl')\n",
    "plt.legend()\n",
    "plt.xlabel('Confidence')\n",
    "plt.title('Kernel Density of YOLOv5 Small vs. XL Models')\n",
    "plt.savefig('../yolov5_small_xl.png', dpi=80)\n",
    "plt.show()"
   ]
  },
  {
   "cell_type": "code",
   "execution_count": 13,
   "id": "859be3d6-51a8-4798-a327-673cc1c3f6b8",
   "metadata": {},
   "outputs": [
    {
     "data": {
      "text/plain": [
       "531559"
      ]
     },
     "execution_count": 13,
     "metadata": {},
     "output_type": "execute_result"
    }
   ],
   "source": [
    "len(sm)"
   ]
  },
  {
   "cell_type": "code",
   "execution_count": 14,
   "id": "1b1cd35c-9c05-45e0-a267-c786491a35fa",
   "metadata": {},
   "outputs": [
    {
     "data": {
      "text/plain": [
       "329093"
      ]
     },
     "execution_count": 14,
     "metadata": {},
     "output_type": "execute_result"
    }
   ],
   "source": [
    "len(xl.loc[xl['conf'] >= 0.871582])"
   ]
  },
  {
   "cell_type": "code",
   "execution_count": 15,
   "id": "69c76866-b6ff-4b13-aba0-cc1442601603",
   "metadata": {},
   "outputs": [
    {
     "data": {
      "image/png": "[encoded data removed]",
      "text/plain": [
       "<Figure size 560x560 with 1 Axes>"
      ]
     },
     "metadata": {
      "needs_background": "light"
     },
     "output_type": "display_data"
    }
   ],
   "source": [
    "figure(figsize=(7, 7), dpi=80)\n",
    "sns.kdeplot(xl['conf'])\n",
    "plt.xlabel('Confidence')\n",
    "plt.title('Kernel Density of XL Models')\n",
    "plt.show()"
   ]
  }
 ],
 "metadata": {
  "kernelspec": {
   "display_name": "Python 3",
   "language": "python",
   "name": "python3"
  },
  "language_info": {
   "codemirror_mode": {
    "name": "ipython",
    "version": 3
   },
   "file_extension": ".py",
   "mimetype": "text/x-python",
   "name": "python",
   "nbconvert_exporter": "python",
   "pygments_lexer": "ipython3",
   "version": "3.9.6"
  }
 },
 "nbformat": 4,
 "nbformat_minor": 5
}
